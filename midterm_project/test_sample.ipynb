import pickle 

X_train=pickle.load(open('X_train.pkl', 'rb'))
