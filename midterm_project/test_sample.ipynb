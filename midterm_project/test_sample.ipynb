{
 "cells": [
  {
   "cell_type": "code",
   "execution_count": 15,
   "metadata": {},
   "outputs": [],
   "source": [
    "sample = {\n",
    "\n",
    "\n",
    " 'satisfaction_level': 0.38,   \n",
    " #0 - 1 (int)\n",
    "\n",
    " 'last_evaluation': 0.53,\n",
    " #0 - 1 (int)\n",
    " \n",
    " 'number_project': 2,          \n",
    " #Any, but trained on 2 to 7 projects (int)\n",
    " \n",
    " 'average_montly_hours': 157,  \n",
    " #Trained on 96 to 310  (int)\n",
    " \n",
    " 'time_spend_company': 3,      \n",
    " #Trained on 2 to 10 years (int)\n",
    " \n",
    " 'Work_accident': 0,\n",
    " #Trained on max 1 accident (int)\n",
    "\n",
    " 'promotion_last_5years': 0,   \n",
    " #0 if no, 1 if yes (int)\n",
    "\n",
    " 'dept': 'sales',  \n",
    " #includes 'sales', 'technical', 'support', 'IT', 'product_mng', 'marketing','RandD', 'accounting', 'hr', 'management' (str)\n",
    "\n",
    " 'salary': 'low',\n",
    " #High, Medium or Low (varies from company to company) (str)\n",
    "          \n",
    " 'satisfaction_category': 'low', \n",
    " #Low if 'satisfaction_level' < 0.5, else High (str)\n",
    "\n",
    " 'employee_work_load': 'unburdened' \n",
    " #Three categories based on projects assigned; (str)\n",
    "\n",
    " #'unburdened' if <= 2 Projects, \n",
    " # 'ideal' for 3 to 5 projects, \n",
    " # 'overburdened' > 5 Projects\n",
    "\n",
    "}"
   ]
  },
  {
   "cell_type": "code",
   "execution_count": 20,
   "metadata": {},
   "outputs": [],
   "source": [
    "\n",
    "from pydantic import BaseModel\n",
    "\n",
    "class ChurnApplication(BaseModel):\n",
    "\n",
    "    \n",
    "    satisfaction_level: float\n",
    "    last_evaluation: float\n",
    "    number_project: int \n",
    "    average_montly_hours: int\n",
    "    time_spend_company: int\n",
    "    Work_accident: int\n",
    "    promotion_last_5years: int\n",
    "    dept: str\n",
    "    salary: str\n",
    "    satisfaction_category: str\n",
    "    employee_work_load: str\n",
    "\n",
    "\n"
   ]
  },
  {
   "cell_type": "code",
   "execution_count": null,
   "metadata": {},
   "outputs": [],
   "source": []
  }
 ],
 "metadata": {
  "kernelspec": {
   "display_name": "Python 3.9.12 ('base')",
   "language": "python",
   "name": "python3"
  },
  "language_info": {
   "codemirror_mode": {
    "name": "ipython",
    "version": 3
   },
   "file_extension": ".py",
   "mimetype": "text/x-python",
   "name": "python",
   "nbconvert_exporter": "python",
   "pygments_lexer": "ipython3",
   "version": "3.9.12"
  },
  "orig_nbformat": 4,
  "vscode": {
   "interpreter": {
    "hash": "a0fbdf06151c80fa40a2e3a328beff6ebe7b9928155d40b40a9203d2e31174c8"
   }
  }
 },
 "nbformat": 4,
 "nbformat_minor": 2
}
