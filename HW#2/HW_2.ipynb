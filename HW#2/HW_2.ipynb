{
  "nbformat": 4,
  "nbformat_minor": 0,
  "metadata": {
    "colab": {
      "provenance": [],
      "collapsed_sections": []
    },
    "kernelspec": {
      "name": "python3",
      "display_name": "Python 3"
    },
    "language_info": {
      "name": "python"
    }
  },
  "cells": [
    {
      "cell_type": "code",
      "execution_count": 128,
      "metadata": {
        "colab": {
          "base_uri": "https://localhost:8080/"
        },
        "id": "2cgiHYzvKOwN",
        "outputId": "e14dee26-02b2-409b-c426-5c0bd21be279"
      },
      "outputs": [
        {
          "output_type": "stream",
          "name": "stdout",
          "text": [
            "--2022-09-15 21:15:25--  https://raw.githubusercontent.com/alexeygrigorev/datasets/master/housing.csv\n",
            "Resolving raw.githubusercontent.com (raw.githubusercontent.com)... 185.199.108.133, 185.199.110.133, 185.199.109.133, ...\n",
            "Connecting to raw.githubusercontent.com (raw.githubusercontent.com)|185.199.108.133|:443... connected.\n",
            "HTTP request sent, awaiting response... 200 OK\n",
            "Length: 1423529 (1.4M) [text/plain]\n",
            "Saving to: ‘housing.csv.2’\n",
            "\n",
            "housing.csv.2       100%[===================>]   1.36M  --.-KB/s    in 0.07s   \n",
            "\n",
            "2022-09-15 21:15:25 (19.7 MB/s) - ‘housing.csv.2’ saved [1423529/1423529]\n",
            "\n",
            "Looking in indexes: https://pypi.org/simple, https://us-python.pkg.dev/colab-wheels/public/simple/\n",
            "Requirement already satisfied: fast_ml in /usr/local/lib/python3.7/dist-packages (3.68)\n",
            "Looking in indexes: https://pypi.org/simple, https://us-python.pkg.dev/colab-wheels/public/simple/\n",
            "Requirement already satisfied: sklearn in /usr/local/lib/python3.7/dist-packages (0.0)\n",
            "Requirement already satisfied: scikit-learn in /usr/local/lib/python3.7/dist-packages (from sklearn) (1.0.2)\n",
            "Requirement already satisfied: scipy>=1.1.0 in /usr/local/lib/python3.7/dist-packages (from scikit-learn->sklearn) (1.7.3)\n",
            "Requirement already satisfied: threadpoolctl>=2.0.0 in /usr/local/lib/python3.7/dist-packages (from scikit-learn->sklearn) (3.1.0)\n",
            "Requirement already satisfied: numpy>=1.14.6 in /usr/local/lib/python3.7/dist-packages (from scikit-learn->sklearn) (1.21.6)\n",
            "Requirement already satisfied: joblib>=0.11 in /usr/local/lib/python3.7/dist-packages (from scikit-learn->sklearn) (1.1.0)\n"
          ]
        }
      ],
      "source": [
        "!wget https://raw.githubusercontent.com/alexeygrigorev/datasets/master/housing.csv\n",
        "!pip install fast_ml\n",
        "!pip install sklearn"
      ]
    },
    {
      "cell_type": "code",
      "source": [
        "import pandas as pd\n",
        "import numpy as np\n",
        "import matplotlib.pyplot as plt\n",
        "import seaborn as sns\n",
        "from sklearn.linear_model import LinearRegression\n",
        "from sklearn.metrics import mean_squared_error\n",
        "from sklearn.linear_model import Lasso, Ridge\n",
        "from fast_ml.model_development import train_valid_test_split\n",
        "from math import sqrt\n",
        "%matplotlib inline"
      ],
      "metadata": {
        "id": "sNJKXBASLO4D"
      },
      "execution_count": 129,
      "outputs": []
    },
    {
      "cell_type": "code",
      "source": [
        "df=pd.read_csv('housing.csv')\n",
        "df=pd.get_dummies(df)\n",
        "df.median_house_value=np.log1p(df.median_house_value)\n",
        "\n",
        "print(f'Column with most Nans:\\n {df.isna().sum().sort_values(ascending=False).head(1)}\\n\\n')\n",
        "print(f'Median of Population: {df.population.median()}')\n"
      ],
      "metadata": {
        "colab": {
          "base_uri": "https://localhost:8080/"
        },
        "id": "h231ajPyLPfV",
        "outputId": "7ec8e14b-2d6c-4855-8374-6669af161c60"
      },
      "execution_count": 130,
      "outputs": [
        {
          "output_type": "stream",
          "name": "stdout",
          "text": [
            "Column with most Nans:\n",
            " total_bedrooms    207\n",
            "dtype: int64\n",
            "\n",
            "\n",
            "Median of Population: 1166.0\n"
          ]
        }
      ]
    },
    {
      "cell_type": "code",
      "source": [
        "df_mean=df.copy()\n",
        "df_median=df.copy()\n",
        "df_zero=df.copy()\n",
        "\n",
        "df_mean['total_bedrooms_median']=df.total_bedrooms.fillna(value=df.total_bedrooms.mean())\n",
        "df_median['total_bedrooms_mean']=df.total_bedrooms.fillna(value=df.total_bedrooms.median())\n",
        "df_zero['total_bedrooms_zero']=df.total_bedrooms.fillna(value=0)\n",
        "\n",
        "df_mean.drop(columns=['total_bedrooms'],axis=1,inplace=True)\n",
        "df_median.drop(columns=['total_bedrooms'],axis=1,inplace=True)\n",
        "df_zero.drop(columns=['total_bedrooms'],axis=1,inplace=True)\n",
        "\n",
        "X_train_mean, y_train_mean, X_valid_mean, y_valid_mean, X_test_mean, y_test_mean = train_valid_test_split(df_mean, target='median_house_value',train_size=0.6, valid_size=0.2, test_size=0.2,random_state=42)\n",
        "X_train_median, y_train_median, X_valid_median, y_valid_median, X_test_median, y_test_median = train_valid_test_split(df_median,'median_house_value',train_size=0.6, valid_size=0.2, test_size=0.2,random_state=42)\n",
        "X_train_zero, y_train_zero, X_valid_zero, y_valid_zero, X_test_zero, y_test_zero = train_valid_test_split(df_zero,'median_house_value',train_size=0.6, valid_size=0.2, test_size=0.2,random_state=42)\n",
        "\n",
        "model_mean=LinearRegression()\n",
        "model_median=LinearRegression()\n",
        "model_zero=LinearRegression()\n",
        "\n",
        "model_mean.fit(X_train_mean,y_train_mean)\n",
        "y_pred_mean=model_mean.predict(X_test_mean)\n",
        "print(f'rmse with nans replaced with Mean:{round(sqrt(mean_squared_error(y_test_mean, y_pred_mean)),5)}')\n",
        "\n",
        "model_median.fit(X_train_median,y_train_median)\n",
        "y_pred_median=model_median.predict(X_test_median)\n",
        "print(f'rmse with nans replace with Median: {round(sqrt(mean_squared_error(y_test_median, y_pred_median)),5)}')\n",
        "\n",
        "model_zero.fit(X_train_zero,y_train_zero)\n",
        "y_pred_zero=model_zero.predict(X_test_zero)\n",
        "print(f'rmse with nans replace with 0: {round(sqrt(mean_squared_error(y_test_zero, y_pred_zero)),5)}')\n",
        "\n",
        "#replacing nans with median is slightly better than other two options.\n"
      ],
      "metadata": {
        "colab": {
          "base_uri": "https://localhost:8080/"
        },
        "id": "Nd1X1r-1cVNe",
        "outputId": "4b2d18b4-ef6e-4fac-c8f1-c757b421ccd7"
      },
      "execution_count": 131,
      "outputs": [
        {
          "output_type": "stream",
          "name": "stdout",
          "text": [
            "rmse with nans replaced with Mean:0.33229\n",
            "rmse with nans replace with Median: 0.33224\n",
            "rmse with nans replace with 0: 0.33362\n"
          ]
        }
      ]
    },
    {
      "cell_type": "code",
      "source": [
        "score={}\n",
        "r = [0, 0.000001, 0.0001, 0.001, 0.01, 0.1, 1, 5, 10]\n",
        "\n",
        "for alpha in r:\n",
        "  model_ridge=Ridge(alpha)\n",
        "  model_ridge.fit(X_train_zero,y_train_zero)\n",
        "  y_pred=model_ridge.predict(X_test_zero)\n",
        "  score[alpha]=round(sqrt(mean_squared_error(y_test_zero, y_pred)),3)\n",
        "  print(f'rmse at r = {alpha} ---> {score[alpha]}')\n",
        "\n",
        "  #lambda at 0 indicates ridge regression has no impact here"
      ],
      "metadata": {
        "colab": {
          "base_uri": "https://localhost:8080/"
        },
        "id": "JZ78DLU4-ux7",
        "outputId": "9f737563-a939-41d6-9483-aaf335e23bea"
      },
      "execution_count": 133,
      "outputs": [
        {
          "output_type": "stream",
          "name": "stdout",
          "text": [
            "rmse at r = 0 ---> 0.333\n",
            "rmse at r = 1e-06 ---> 0.334\n",
            "rmse at r = 0.0001 ---> 0.334\n",
            "rmse at r = 0.001 ---> 0.334\n",
            "rmse at r = 0.01 ---> 0.334\n",
            "rmse at r = 0.1 ---> 0.334\n",
            "rmse at r = 1 ---> 0.334\n",
            "rmse at r = 5 ---> 0.334\n",
            "rmse at r = 10 ---> 0.334\n"
          ]
        }
      ]
    },
    {
      "cell_type": "code",
      "source": [
        "dff=df.copy()\n",
        "states=[x for x in range(10)]\n",
        "dff['total_bedrooms_zero']=df.total_bedrooms.fillna(value=0)\n",
        "dff.drop(columns=['total_bedrooms'],axis=1,inplace=True)\n",
        "rmse=[]\n",
        "\n",
        "for s in states:\n",
        "  X_train, y_train, X_valid, y_valid, X_test, y_test = train_valid_test_split(dff,'median_house_value',train_size=0.6, valid_size=0.2, test_size=0.2,random_state=s)\n",
        "  model=LinearRegression()\n",
        "  model.fit(X_train,y_train)\n",
        "  y_pred_=model.predict(X_test)\n",
        "  rmse.append(sqrt(mean_squared_error(y_test, y_pred_)))\n",
        "\n",
        "round(np.std(rmse),3)\n"
      ],
      "metadata": {
        "colab": {
          "base_uri": "https://localhost:8080/"
        },
        "id": "9nmfYmYUANUf",
        "outputId": "2cbb02b2-da37-46b3-c552-40a8799fa6d4"
      },
      "execution_count": 137,
      "outputs": [
        {
          "output_type": "execute_result",
          "data": {
            "text/plain": [
              "0.006"
            ]
          },
          "metadata": {},
          "execution_count": 137
        }
      ]
    },
    {
      "cell_type": "code",
      "source": [
        "#The train test and valid splits are already done in previous questions at random state=9\n",
        "r=0.001\n",
        "\n",
        "#combining test and validation sets\n",
        "X=pd.concat([X_train,X_valid],axis=0)\n",
        "y=pd.concat([y_train,y_valid],axis=0)\n",
        "\n",
        "#Lasso (L1) regularisation here, with alpha set to 0.001\n",
        "model_final=Lasso(r)\n",
        "model_final.fit(X,y)\n",
        "Y_pred=model_final.predict(X_test)\n",
        "\n",
        "print(sqrt(mean_squared_error(y_test, Y_pred)))\n",
        "\n",
        "\n"
      ],
      "metadata": {
        "colab": {
          "base_uri": "https://localhost:8080/"
        },
        "id": "CxdVC3J7G42y",
        "outputId": "bb3d811b-a66c-4b71-d9dd-9b15dee3734e"
      },
      "execution_count": 138,
      "outputs": [
        {
          "output_type": "stream",
          "name": "stdout",
          "text": [
            "0.3356214915705247\n"
          ]
        }
      ]
    },
    {
      "cell_type": "code",
      "source": [],
      "metadata": {
        "id": "1mjydFgL_DqL"
      },
      "execution_count": null,
      "outputs": []
    }
  ]
}